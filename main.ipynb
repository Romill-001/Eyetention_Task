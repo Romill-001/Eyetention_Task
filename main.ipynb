{
 "cells": [
  {
   "cell_type": "markdown",
   "metadata": {},
   "source": []
  },
  {
   "cell_type": "markdown",
   "metadata": {},
   "source": [
    "### Загрузка зависимостей"
   ]
  },
  {
   "cell_type": "code",
   "execution_count": null,
   "metadata": {
    "vscode": {
     "languageId": "plaintext"
    }
   },
   "outputs": [],
   "source": [
    "!pip install pandas==1.2.1\n",
    "!pip install scikit_learn==1.2.2\n",
    "!pip install seaborn==0.12.2\n",
    "!pip install tqdm==4.64.1\n",
    "!pip install transformers==4.27.0.dev0\n",
    "!pip install matplotlib==3.3.4\n",
    "!pip install numpy==1.21.2"
   ]
  },
  {
   "cell_type": "markdown",
   "metadata": {},
   "source": [
    "### Запуск файлов"
   ]
  },
  {
   "cell_type": "code",
   "execution_count": null,
   "metadata": {
    "vscode": {
     "languageId": "plaintext"
    }
   },
   "outputs": [],
   "source": [
    "!python main_BSC.py --test_mode='text'\n",
    "!python main_BSC.py --test_mode='subject'\n",
    "!python main_BSC_NRS_setting.py\n",
    "!python main_BSC_reader_identifier.py"
   ]
  }
 ],
 "metadata": {
  "language_info": {
   "name": "python"
  }
 },
 "nbformat": 4,
 "nbformat_minor": 2
}
