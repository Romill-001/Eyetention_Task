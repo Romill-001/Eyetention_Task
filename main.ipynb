{
 "cells": [
  {
   "cell_type": "markdown",
   "id": "4a869f54",
   "metadata": {},
   "source": [
    "### Загрузка зависимостей:"
   ]
  },
  {
   "cell_type": "code",
   "execution_count": null,
   "id": "c39066fe",
   "metadata": {},
   "outputs": [],
   "source": [
    "%pip install -r ./res/requirements.txt\n",
    "%pip install paddlepaddle==2.5.2"
   ]
  },
  {
   "cell_type": "markdown",
   "id": "fc659da0",
   "metadata": {},
   "source": [
    "---"
   ]
  },
  {
   "cell_type": "markdown",
   "id": "b006ca06",
   "metadata": {},
   "source": [
    "### Обучение:"
   ]
  },
  {
   "cell_type": "markdown",
   "id": "728a8aeb",
   "metadata": {},
   "source": [
    "Создание директорий:"
   ]
  },
  {
   "cell_type": "code",
   "execution_count": null,
   "id": "de72de4c",
   "metadata": {},
   "outputs": [],
   "source": [
    "import os\n",
    "\n",
    "os.makedirs(\"training_results/MECO\", exist_ok=True)\n",
    "os.makedirs(\"training_results/BSC\", exist_ok=True)\n",
    "os.makedirs(\"training_results/Celer\", exist_ok=True)"
   ]
  },
  {
   "cell_type": "markdown",
   "id": "5c12b0ca",
   "metadata": {},
   "source": [
    "Обучение BSC:"
   ]
  },
  {
   "cell_type": "code",
   "execution_count": null,
   "id": "5be92d11",
   "metadata": {},
   "outputs": [],
   "source": [
    "!python src/main_BSC.py"
   ]
  },
  {
   "cell_type": "markdown",
   "id": "258650d3",
   "metadata": {},
   "source": [
    "Обучение MECO:"
   ]
  },
  {
   "cell_type": "code",
   "execution_count": null,
   "id": "23822008",
   "metadata": {},
   "outputs": [],
   "source": [
    "!python src/main_MECO.py"
   ]
  },
  {
   "cell_type": "markdown",
   "id": "2ca9c404",
   "metadata": {},
   "source": [
    "---"
   ]
  },
  {
   "cell_type": "markdown",
   "id": "90e8c3a0",
   "metadata": {},
   "source": [
    "### Предобученные данные:"
   ]
  },
  {
   "cell_type": "code",
   "execution_count": null,
   "id": "e82dcebb",
   "metadata": {},
   "outputs": [],
   "source": [
    "import os\n",
    "import requests\n",
    "from tqdm import tqdm\n",
    "path = \"https://github.com/Romill-001/Eyetention_Task/releases/download/Assets/\"\n",
    "files = {\"BSC\" : [\"CHN_ET.pth\", \"CHN_FN.pickle\"], \n",
    "         \"Celer\" : [\"ENG_ET.pth\", \"ENG_FN.pickle\"], \n",
    "         \"MECO\" : [\"ML_ET.pth\", \"ML_FN.pickle\"]}\n",
    "\n",
    "for k in files.keys():\n",
    "    for file in files[k]:\n",
    "        os.makedirs(\"training_results/{}\".format(k), exist_ok=True)\n",
    "        url = path + file\n",
    "        save_path = os.path.join(\"training_results\", k, file)\n",
    "        \n",
    "        response = requests.get(url, timeout=10)\n",
    "        if response.status_code == 200:\n",
    "            with open(save_path, \"wb\") as f:\n",
    "                for chunk in response.iter_content(chunk_size=8192):\n",
    "                    f.write(chunk)"
   ]
  },
  {
   "cell_type": "markdown",
   "id": "794ad167",
   "metadata": {},
   "source": [
    "---"
   ]
  },
  {
   "cell_type": "markdown",
   "id": "1b322044",
   "metadata": {},
   "source": [
    "### Тестирование модели:"
   ]
  },
  {
   "cell_type": "markdown",
   "id": "b896b1a1",
   "metadata": {},
   "source": [
    "Ablation Study для BSC:"
   ]
  },
  {
   "cell_type": "code",
   "execution_count": null,
   "id": "73ca2516",
   "metadata": {},
   "outputs": [],
   "source": [
    "!python src/calculate_nld_BSC.py"
   ]
  }
 ],
 "metadata": {
  "kernelspec": {
   "display_name": "Python 3",
   "language": "python",
   "name": "python3"
  },
  "language_info": {
   "codemirror_mode": {
    "name": "ipython",
    "version": 3
   },
   "file_extension": ".py",
   "mimetype": "text/x-python",
   "name": "python",
   "nbconvert_exporter": "python",
   "pygments_lexer": "ipython3",
   "version": "3.10.2"
  }
 },
 "nbformat": 4,
 "nbformat_minor": 5
}
